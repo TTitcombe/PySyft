{
 "cells": [
  {
   "cell_type": "markdown",
   "metadata": {},
   "source": [
    "# Private Set Intersection\n",
    "\n",
    "We perform private vertical federated learning using:\n",
    "- Private Set Intersection (PSI)\n",
    "    - data holders agree on a set of shared data subjects using a private protocol\n",
    "- Split neural networks\n",
    "    - data holders compute an intermediate tensor using part of a neural network\n",
    "    - data holders send the tensors to a server, who completes computation\n",
    "    - there may be multiple data holders, each with a different part of the input data\n",
    "    \n",
    "The purpose of this notebook is to design the API for users to perform private set intersection using Syft and Grid,\n",
    "which is a requirement for privacy-preserving\n",
    "federated analytics\n",
    "and model training.\n",
    "This notebook will also define common user stories,\n",
    "requirements\n",
    "and outstanding questions."
   ]
  },
  {
   "cell_type": "markdown",
   "metadata": {},
   "source": [
    "---\n",
    "# Requirements and Outstanding Questions\n",
    "\n",
    "A list of features Syft/Grid should have.\n",
    "Where known,\n",
    "requirements will be attached to a `syft` version\n",
    "in which it will be first released\n",
    "and any development teams which will be required.\n",
    "The first release of `syft` which will include vertical federated learning will be `0.3.2`."
   ]
  },
  {
   "cell_type": "markdown",
   "metadata": {},
   "source": [
    "1. Data holders can send _encrypted_ data IDs to another party and receive a list of encrypted IDs which intersect with other data holders' lists\n",
    "    - `syft 0.3.2`\n",
    "1. PSI calculation should be asynchronous. I.e. data holders can perform other tasks while waiting for all data IDs to be sent to the server for calculation\n",
    "1. PSI should work for any `n >= 2`, where `n` is the number of data holders\n",
    "1. PSI calculation should be independent of a vertical federated learning setting\n",
    "    - Data holders may want to be able to define a common set of data on which they can perform analytics\n",
    "    - `syft 0.3.2`\n",
    "1. Set intersections should be obscured to prevent a majority party from learning too much information\n",
    "    - See [this paper](https://arxiv.org/pdf/2004.07427.pdf)\n",
    "    - `> 0.3.2`\n",
    "    - Protocols should be developed within `PSI`; Differential Privacy team for privacy calculations?"
   ]
  },
  {
   "cell_type": "markdown",
   "metadata": {},
   "source": [
    "## Outstanding Questions\n",
    "\n",
    "1. How can data holders communicate to agree on a data ID scheme? Dataset schema?\n",
    "1. Who defines the encryption protocol? the server? data holders?\n",
    "1. Should data holders be able to elect a data holder to perform PSI, instead of a computational server?\n",
    "1. What's a reasonable upper bound on number of data holders - for testing and performance issues?\n",
    "1. How do data holders agree on the level of privacy of intersecting set?\n",
    "1. How are superfluous data points (introduced by intersection obscuring) handled during vertical federated learning? e.g. must the server hold information on which data points/IDs to ignore\n",
    "1. How can we guarantee that data holders act on the results of PSI honestly? e.g. get rid of the data points that are not in the intersection"
   ]
  },
  {
   "cell_type": "markdown",
   "metadata": {},
   "source": [
    "---\n",
    "# Scenario 1 - Vertically Federated Analytics\n",
    "\n",
    "Netflax and FitByte hold non-overlapping data on individuals' daily activities.\n",
    "A researcher wants analyse the impact of daily activity on sleep quality.\n",
    "To do this,\n",
    "they purchase data from Netflax and FitByte.\n",
    "To work out which data each company needs to sent to\n",
    "the researcher,\n",
    "the intersection of the dataset IDs is computed.\n",
    "\n",
    "Assumptions:\n",
    "- E-mail addresses are used as unique IDs. Each individual uses the same e-mail address to sign up to both services"
   ]
  },
  {
   "cell_type": "markdown",
   "metadata": {},
   "source": [
    "![asd](images/scenario1-step1.png)"
   ]
  },
  {
   "cell_type": "markdown",
   "metadata": {},
   "source": [
    "![](images/scenario1-step2.png)"
   ]
  },
  {
   "cell_type": "markdown",
   "metadata": {},
   "source": [
    "![](images/scenario1-step3.png)"
   ]
  }
 ],
 "metadata": {
  "kernelspec": {
   "display_name": "Python 3",
   "language": "python",
   "name": "python3"
  },
  "language_info": {
   "codemirror_mode": {
    "name": "ipython",
    "version": 3
   },
   "file_extension": ".py",
   "mimetype": "text/x-python",
   "name": "python",
   "nbconvert_exporter": "python",
   "pygments_lexer": "ipython3",
   "version": "3.7.5"
  }
 },
 "nbformat": 4,
 "nbformat_minor": 4
}
